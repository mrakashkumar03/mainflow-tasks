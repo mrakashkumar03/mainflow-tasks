{
 "cells": [
  {
   "cell_type": "code",
   "execution_count": 12,
   "id": "51464f16-0e17-4793-8b16-87e7088f65fe",
   "metadata": {},
   "outputs": [
    {
     "data": {
      "text/html": [
       "<div>\n",
       "<style scoped>\n",
       "    .dataframe tbody tr th:only-of-type {\n",
       "        vertical-align: middle;\n",
       "    }\n",
       "\n",
       "    .dataframe tbody tr th {\n",
       "        vertical-align: top;\n",
       "    }\n",
       "\n",
       "    .dataframe thead th {\n",
       "        text-align: right;\n",
       "    }\n",
       "</style>\n",
       "<table border=\"1\" class=\"dataframe\">\n",
       "  <thead>\n",
       "    <tr style=\"text-align: right;\">\n",
       "      <th></th>\n",
       "      <th>school</th>\n",
       "      <th>sex</th>\n",
       "      <th>age</th>\n",
       "      <th>address</th>\n",
       "      <th>famsize</th>\n",
       "      <th>Pstatus</th>\n",
       "      <th>Medu</th>\n",
       "      <th>Fedu</th>\n",
       "      <th>Mjob</th>\n",
       "      <th>Fjob</th>\n",
       "      <th>...</th>\n",
       "      <th>famrel</th>\n",
       "      <th>freetime</th>\n",
       "      <th>goout</th>\n",
       "      <th>Dalc</th>\n",
       "      <th>Walc</th>\n",
       "      <th>health</th>\n",
       "      <th>absences</th>\n",
       "      <th>G1</th>\n",
       "      <th>G2</th>\n",
       "      <th>G3</th>\n",
       "    </tr>\n",
       "  </thead>\n",
       "  <tbody>\n",
       "    <tr>\n",
       "      <th>0</th>\n",
       "      <td>GP</td>\n",
       "      <td>\"F\"</td>\n",
       "      <td>18</td>\n",
       "      <td>\"U\"</td>\n",
       "      <td>\"GT3\"</td>\n",
       "      <td>\"A\"</td>\n",
       "      <td>4</td>\n",
       "      <td>4</td>\n",
       "      <td>\"at_home\"</td>\n",
       "      <td>\"teacher\"</td>\n",
       "      <td>...</td>\n",
       "      <td>4</td>\n",
       "      <td>3</td>\n",
       "      <td>4</td>\n",
       "      <td>1</td>\n",
       "      <td>1</td>\n",
       "      <td>3</td>\n",
       "      <td>6</td>\n",
       "      <td>\"5\"</td>\n",
       "      <td>\"6\"</td>\n",
       "      <td>6</td>\n",
       "    </tr>\n",
       "    <tr>\n",
       "      <th>1</th>\n",
       "      <td>GP</td>\n",
       "      <td>\"F\"</td>\n",
       "      <td>17</td>\n",
       "      <td>\"U\"</td>\n",
       "      <td>\"GT3\"</td>\n",
       "      <td>\"T\"</td>\n",
       "      <td>1</td>\n",
       "      <td>1</td>\n",
       "      <td>\"at_home\"</td>\n",
       "      <td>\"other\"</td>\n",
       "      <td>...</td>\n",
       "      <td>5</td>\n",
       "      <td>3</td>\n",
       "      <td>3</td>\n",
       "      <td>1</td>\n",
       "      <td>1</td>\n",
       "      <td>3</td>\n",
       "      <td>4</td>\n",
       "      <td>\"5\"</td>\n",
       "      <td>\"5\"</td>\n",
       "      <td>6</td>\n",
       "    </tr>\n",
       "    <tr>\n",
       "      <th>2</th>\n",
       "      <td>GP</td>\n",
       "      <td>\"F\"</td>\n",
       "      <td>15</td>\n",
       "      <td>\"U\"</td>\n",
       "      <td>\"LE3\"</td>\n",
       "      <td>\"T\"</td>\n",
       "      <td>1</td>\n",
       "      <td>1</td>\n",
       "      <td>\"at_home\"</td>\n",
       "      <td>\"other\"</td>\n",
       "      <td>...</td>\n",
       "      <td>4</td>\n",
       "      <td>3</td>\n",
       "      <td>2</td>\n",
       "      <td>2</td>\n",
       "      <td>3</td>\n",
       "      <td>3</td>\n",
       "      <td>10</td>\n",
       "      <td>\"7\"</td>\n",
       "      <td>\"8\"</td>\n",
       "      <td>10</td>\n",
       "    </tr>\n",
       "    <tr>\n",
       "      <th>3</th>\n",
       "      <td>GP</td>\n",
       "      <td>\"F\"</td>\n",
       "      <td>15</td>\n",
       "      <td>\"U\"</td>\n",
       "      <td>\"GT3\"</td>\n",
       "      <td>\"T\"</td>\n",
       "      <td>4</td>\n",
       "      <td>2</td>\n",
       "      <td>\"health\"</td>\n",
       "      <td>\"services\"</td>\n",
       "      <td>...</td>\n",
       "      <td>3</td>\n",
       "      <td>2</td>\n",
       "      <td>2</td>\n",
       "      <td>1</td>\n",
       "      <td>1</td>\n",
       "      <td>5</td>\n",
       "      <td>2</td>\n",
       "      <td>\"15\"</td>\n",
       "      <td>\"14\"</td>\n",
       "      <td>15</td>\n",
       "    </tr>\n",
       "    <tr>\n",
       "      <th>4</th>\n",
       "      <td>GP</td>\n",
       "      <td>\"F\"</td>\n",
       "      <td>16</td>\n",
       "      <td>\"U\"</td>\n",
       "      <td>\"GT3\"</td>\n",
       "      <td>\"T\"</td>\n",
       "      <td>3</td>\n",
       "      <td>3</td>\n",
       "      <td>\"other\"</td>\n",
       "      <td>\"other\"</td>\n",
       "      <td>...</td>\n",
       "      <td>4</td>\n",
       "      <td>3</td>\n",
       "      <td>2</td>\n",
       "      <td>1</td>\n",
       "      <td>2</td>\n",
       "      <td>5</td>\n",
       "      <td>4</td>\n",
       "      <td>\"6\"</td>\n",
       "      <td>\"10\"</td>\n",
       "      <td>10</td>\n",
       "    </tr>\n",
       "  </tbody>\n",
       "</table>\n",
       "<p>5 rows × 33 columns</p>\n",
       "</div>"
      ],
      "text/plain": [
       "  school   sex  age   address   famsize   Pstatus  Medu  Fedu         Mjob  \\\n",
       "0   GP     \"F\"   18   \"U\"       \"GT3\"     \"A\"         4     4   \"at_home\"    \n",
       "1   GP     \"F\"   17   \"U\"       \"GT3\"     \"T\"         1     1   \"at_home\"    \n",
       "2   GP     \"F\"   15   \"U\"       \"LE3\"     \"T\"         1     1   \"at_home\"    \n",
       "3   GP     \"F\"   15   \"U\"       \"GT3\"     \"T\"         4     2   \"health\"     \n",
       "4   GP     \"F\"   16   \"U\"       \"GT3\"     \"T\"         3     3   \"other\"      \n",
       "\n",
       "          Fjob  ... famrel freetime  goout  Dalc  Walc health absences     G1  \\\n",
       "0   \"teacher\"   ...      4        3      4     1     1      3        6   \"5\"    \n",
       "1   \"other\"     ...      5        3      3     1     1      3        4   \"5\"    \n",
       "2   \"other\"     ...      4        3      2     2     3      3       10   \"7\"    \n",
       "3   \"services\"  ...      3        2      2     1     1      5        2   \"15\"   \n",
       "4   \"other\"     ...      4        3      2     1     2      5        4   \"6\"    \n",
       "\n",
       "      G2  G3  \n",
       "0   \"6\"    6  \n",
       "1   \"5\"    6  \n",
       "2   \"8\"   10  \n",
       "3   \"14\"  15  \n",
       "4   \"10\"  10  \n",
       "\n",
       "[5 rows x 33 columns]"
      ]
     },
     "execution_count": 12,
     "metadata": {},
     "output_type": "execute_result"
    }
   ],
   "source": [
    "import pandas as pd\n",
    "\n",
    "# ✅ Load CSV with correct separator\n",
    "df = pd.read_csv(\"student-mat.csv\", sep=';')\n",
    "\n",
    "# ✅ Clean column names (remove \" quotes)\n",
    "df.columns = df.columns.str.replace('\"', '').str.strip()\n",
    "\n",
    "# Check first few rows\n",
    "df.head()\n"
   ]
  },
  {
   "cell_type": "code",
   "execution_count": 6,
   "id": "4a4a9545-f40a-4bc6-b99e-2dcf452ff792",
   "metadata": {},
   "outputs": [
    {
     "name": "stdout",
     "output_type": "stream",
     "text": [
      "Missing values:\n",
      " school           0\n",
      " sex             0\n",
      " age             0\n",
      " address         0\n",
      " famsize         0\n",
      " Pstatus         0\n",
      " Medu            0\n",
      " Fedu            0\n",
      " Mjob            0\n",
      " Fjob            0\n",
      " reason          0\n",
      " guardian        0\n",
      " traveltime      0\n",
      " studytime       0\n",
      " failures        0\n",
      " schoolsup       0\n",
      " famsup          0\n",
      " paid            0\n",
      " activities      0\n",
      " nursery         0\n",
      " higher          0\n",
      " internet        0\n",
      " romantic        0\n",
      " famrel          0\n",
      " freetime        0\n",
      " goout           0\n",
      " Dalc            0\n",
      " Walc            0\n",
      " health          0\n",
      " absences        0\n",
      " G1              0\n",
      " G2              0\n",
      " G3              0\n",
      "dtype: int64\n",
      "\n",
      "Data types:\n",
      " school           object\n",
      " sex             object\n",
      " age              int64\n",
      " address         object\n",
      " famsize         object\n",
      " Pstatus         object\n",
      " Medu             int64\n",
      " Fedu             int64\n",
      " Mjob            object\n",
      " Fjob            object\n",
      " reason          object\n",
      " guardian        object\n",
      " traveltime       int64\n",
      " studytime        int64\n",
      " failures         int64\n",
      " schoolsup       object\n",
      " famsup          object\n",
      " paid            object\n",
      " activities      object\n",
      " nursery         object\n",
      " higher          object\n",
      " internet        object\n",
      " romantic        object\n",
      " famrel           int64\n",
      " freetime         int64\n",
      " goout            int64\n",
      " Dalc             int64\n",
      " Walc             int64\n",
      " health           int64\n",
      " absences         int64\n",
      " G1              object\n",
      " G2              object\n",
      " G3               int64\n",
      "dtype: object\n",
      "\n",
      "Shape (rows, columns): (395, 33)\n"
     ]
    }
   ],
   "source": [
    "print(\"Missing values:\\n\", df.isnull().sum())\n",
    "print(\"\\nData types:\\n\", df.dtypes)\n",
    "print(\"\\nShape (rows, columns):\", df.shape)\n"
   ]
  },
  {
   "cell_type": "code",
   "execution_count": 7,
   "id": "def0e75b-8d39-450b-b85a-efac296d39bf",
   "metadata": {},
   "outputs": [
    {
     "name": "stdout",
     "output_type": "stream",
     "text": [
      "After removing duplicates, new shape: (395, 33)\n"
     ]
    }
   ],
   "source": [
    "df = df.drop_duplicates()\n",
    "print(\"After removing duplicates, new shape:\", df.shape)\n"
   ]
  },
  {
   "cell_type": "code",
   "execution_count": 13,
   "id": "e50954f1-f915-4e8f-82b2-a7505b9dfaf2",
   "metadata": {},
   "outputs": [
    {
     "name": "stdout",
     "output_type": "stream",
     "text": [
      "Average Final Grade (G3): 10.415189873417722\n"
     ]
    }
   ],
   "source": [
    "print(\"Average Final Grade (G3):\", df['G3'].mean())\n"
   ]
  },
  {
   "cell_type": "code",
   "execution_count": 14,
   "id": "e4e78237-32bf-48ec-abfc-91a7aefa832d",
   "metadata": {},
   "outputs": [
    {
     "name": "stdout",
     "output_type": "stream",
     "text": [
      "Number of students who scored more than 15 in G3: 40\n"
     ]
    }
   ],
   "source": [
    "high_scores = df[df['G3'] > 15]\n",
    "print(\"Number of students who scored more than 15 in G3:\", high_scores.shape[0])\n"
   ]
  },
  {
   "cell_type": "code",
   "execution_count": 15,
   "id": "4dbf3cda-0684-484c-8935-5342c7506de0",
   "metadata": {},
   "outputs": [
    {
     "name": "stdout",
     "output_type": "stream",
     "text": [
      "Correlation between study time and G3: 0.09781968965319636\n"
     ]
    }
   ],
   "source": [
    "correlation = df['studytime'].corr(df['G3'])\n",
    "print(\"Correlation between study time and G3:\", correlation)\n"
   ]
  },
  {
   "cell_type": "code",
   "execution_count": 16,
   "id": "5c0036d4-0847-4c56-86aa-d13e1bb59282",
   "metadata": {},
   "outputs": [
    {
     "name": "stdout",
     "output_type": "stream",
     "text": [
      "Average G3 by Gender:\n",
      " sex\n",
      "\"F\"     9.966346\n",
      "\"M\"    10.914439\n",
      "Name: G3, dtype: float64\n"
     ]
    }
   ],
   "source": [
    "gender_avg = df.groupby('sex')['G3'].mean()\n",
    "print(\"Average G3 by Gender:\\n\", gender_avg)\n"
   ]
  },
  {
   "cell_type": "code",
   "execution_count": 17,
   "id": "c4ab6011-dbef-47c7-b7d8-9c05237ff266",
   "metadata": {},
   "outputs": [
    {
     "data": {
      "image/png": "[encoded data removed]",
      "text/plain": [
       "<Figure size 800x500 with 1 Axes>"
      ]
     },
     "metadata": {},
     "output_type": "display_data"
    }
   ],
   "source": [
    "plt.figure(figsize=(8, 5))\n",
    "plt.hist(df['G3'], bins=10, color='skyblue', edgecolor='black')\n",
    "plt.title(\"Distribution of Final Grades (G3)\")\n",
    "plt.xlabel(\"Final Grade (G3)\")\n",
    "plt.ylabel(\"Number of Students\")\n",
    "plt.grid(True)\n",
    "plt.show()\n"
   ]
  },
  {
   "cell_type": "code",
   "execution_count": 18,
   "id": "b84ade73-2d4c-4cc6-ba83-d95ccdf97b72",
   "metadata": {},
   "outputs": [
    {
     "data": {
      "image/png": "[encoded data removed]",
      "text/plain": [
       "<Figure size 800x500 with 1 Axes>"
      ]
     },
     "metadata": {},
     "output_type": "display_data"
    }
   ],
   "source": [
    "plt.figure(figsize=(8, 5))\n",
    "plt.scatter(df['studytime'], df['G3'], color='green', alpha=0.7)\n",
    "plt.title(\"Study Time vs Final Grade (G3)\")\n",
    "plt.xlabel(\"Study Time (hours/week)\")\n",
    "plt.ylabel(\"Final Grade (G3)\")\n",
    "plt.grid(True)\n",
    "plt.show()\n"
   ]
  },
  {
   "cell_type": "code",
   "execution_count": 20,
   "id": "095991ae-f3de-4e24-82d6-faa8dc1ff693",
   "metadata": {},
   "outputs": [
    {
     "data": {
      "image/png": "[encoded data removed]",
      "text/plain": [
       "<Figure size 600x500 with 1 Axes>"
      ]
     },
     "metadata": {},
     "output_type": "display_data"
    }
   ],
   "source": [
    "plt.figure(figsize=(6, 5))\n",
    "sns.barplot(x='sex', y='G3', data=df, hue='sex', palette='pastel', legend=False)\n",
    "plt.title(\"Average Final Grade (G3) by Gender\")\n",
    "plt.xlabel(\"Gender\")\n",
    "plt.ylabel(\"Average G3 Score\")\n",
    "plt.show()\n"
   ]
  },
  {
   "cell_type": "code",
   "execution_count": null,
   "id": "d9cf17bd-b2fe-4360-8fb7-37f43e7db0d0",
   "metadata": {},
   "outputs": [],
   "source": []
  }
 ],
 "metadata": {
  "kernelspec": {
   "display_name": "Python 3 (ipykernel)",
   "language": "python",
   "name": "python3"
  },
  "language_info": {
   "codemirror_mode": {
    "name": "ipython",
    "version": 3
   },
   "file_extension": ".py",
   "mimetype": "text/x-python",
   "name": "python",
   "nbconvert_exporter": "python",
   "pygments_lexer": "ipython3",
   "version": "3.13.1"
  }
 },
 "nbformat": 4,
 "nbformat_minor": 5
}
